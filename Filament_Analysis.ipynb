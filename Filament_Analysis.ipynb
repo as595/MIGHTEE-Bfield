{
 "cells": [
  {
   "cell_type": "code",
   "execution_count": 1,
   "id": "3345598d",
   "metadata": {},
   "outputs": [],
   "source": [
    "import pylab as pl\n",
    "from scipy.optimize import minimize\n",
    "\n",
    "from utils import *\n",
    "from grm_utils import *"
   ]
  },
  {
   "cell_type": "markdown",
   "id": "2372e0b1",
   "metadata": {},
   "source": [
    "---\n",
    "\n",
    "Read and filter data:"
   ]
  },
  {
   "cell_type": "code",
   "execution_count": 2,
   "id": "522936f8",
   "metadata": {},
   "outputs": [],
   "source": [
    "# step 1: read catalogues\n",
    "xmm12_file = '/Users/ascaife/DATA/MIGHTEE/catalog/XMMLSS/XMMLSS_12/XMMLSS_12_1538856059_1539286252_pol_detections.fits'\n",
    "xmm12 = read_catalogue(xmm12_file)\n",
    "xmm13_file = '/Users/ascaife/DATA/MIGHTEE/catalog/XMMLSS/XMMLSS_13/XMMLSS_13_1538942495_1539372679_pol_detections.fits'\n",
    "xmm13 = read_catalogue(xmm13_file)\n",
    "xmm14_file = '/Users/ascaife/DATA/MIGHTEE/catalog/XMMLSS/XMMLSS_14/XMMLSS_14_1539028868_1539460932_pol_detections.fits'\n",
    "xmm14 = read_catalogue(xmm14_file)\n",
    "cosmos_file = '/Users/ascaife/DATA/MIGHTEE/catalog/COSMOS/COSMOS_1587911796_1524147354_1525613583_pol_detections.fits'\n",
    "cosmos = read_catalogue(cosmos_file)"
   ]
  },
  {
   "cell_type": "code",
   "execution_count": 3,
   "id": "c22ef6ad",
   "metadata": {},
   "outputs": [
    {
     "name": "stdout",
     "output_type": "stream",
     "text": [
      "# of sources: 442\n"
     ]
    }
   ],
   "source": [
    "# step 2: merge catalogues\n",
    "mightee = merge_cats([xmm12, xmm13, xmm14, cosmos])\n",
    "print('# of sources: {}'.format(mightee.shape[0]))"
   ]
  },
  {
   "cell_type": "code",
   "execution_count": 4,
   "id": "e4ccd955",
   "metadata": {},
   "outputs": [
    {
     "name": "stdout",
     "output_type": "stream",
     "text": [
      "# of sources (after z filter): 313\n",
      "# of sources (after b filter): 313\n"
     ]
    }
   ],
   "source": [
    "# step 3: redshift and galactic latitude filtering\n",
    "mightee = filter_z(mightee, has_z=True, spec_z=False)\n",
    "print('# of sources (after z filter): {}'.format(mightee.shape[0]))\n",
    "\n",
    "# add columns for (l,b)\n",
    "mightee['l'], mightee['b'] = j2000_to_gal(mightee['ra'].values, mightee['dec'].values)\n",
    "\n",
    "# filter b<25:\n",
    "mightee = filter_glat(mightee, bmin=25.)\n",
    "print('# of sources (after b filter): {}'.format(mightee.shape[0]))"
   ]
  },
  {
   "cell_type": "markdown",
   "id": "8318c0db",
   "metadata": {},
   "source": [
    "---\n",
    "\n",
    "Make residual RMs:"
   ]
  },
  {
   "cell_type": "code",
   "execution_count": 5,
   "id": "5bd6b09f",
   "metadata": {},
   "outputs": [],
   "source": [
    "# step 4: get GRMs\n",
    "ra = np.array(mightee['ra'].values)\n",
    "dec= np.array(mightee['dec'].values)\n",
    "\n",
    "fitsfile = './faradaysky/faraday2020v2.fits'\n",
    "grmdata, grmhp = get_grm_data(fitsfile) # from grm_utils.py\n",
    "\n",
    "# nearest pixel values:\n",
    "grm_fs, grm_fs_std = get_grm(ra, dec, grmdata, grmhp) # from grm_utils.py\n",
    "mightee['GRM_FS'] = grm_fs\n",
    "mightee['GRM_FSerr'] = grm_fs_std\n",
    "\n",
    "# 1 degree median values:\n",
    "grm1_med, grm1_mad, grm1_std = get_grm1(ra, dec, grmdata, grmhp, r=0.5) # 1 degree median values (grm_utils)\n",
    "mightee['GRM1'] = grm1_med\n",
    "mightee['GRM1err'] = grm1_mad"
   ]
  },
  {
   "cell_type": "code",
   "execution_count": 6,
   "id": "792aefe5",
   "metadata": {},
   "outputs": [],
   "source": [
    "rm      = mightee['RM'].values\n",
    "grm1    = mightee['GRM1'].values        # use 1 deg median\n",
    "z       = mightee['best_z'].values\n",
    "\n",
    "rrm = rm - grm1\n",
    "\n",
    "std = np.std(rrm)\n",
    "z = z[np.where(np.abs(rrm)<=2*std)]\n",
    "rrm = rrm[np.where(np.abs(rrm)<=2*std)]"
   ]
  },
  {
   "cell_type": "code",
   "execution_count": 7,
   "id": "038409a4",
   "metadata": {},
   "outputs": [],
   "source": [
    "def bin_rrm(rrm, bins, idx_bin, n_bin):\n",
    "    \n",
    "    mu_rrm = [np.average(rrm[idx_bin == j]) for j in range(1, len(bins))]\n",
    "    sig_rrm= [np.std(rrm[idx_bin == j]) for j in range(1, len(bins))]\n",
    "    ste_rrm= sig_rrm/np.sqrt(n_bin)\n",
    "    ste_sig = standard_error_on_stdev(sig_rrm, n_bin)\n",
    "\n",
    "    return mu_rrm, sig_rrm, ste_rrm, ste_sig"
   ]
  },
  {
   "cell_type": "markdown",
   "id": "50848025",
   "metadata": {},
   "source": [
    "---\n",
    "\n",
    "Fit filament model to C3 corrected data:\n"
   ]
  },
  {
   "cell_type": "code",
   "execution_count": 8,
   "id": "a1f2bc0b",
   "metadata": {},
   "outputs": [],
   "source": [
    "def zdep(rrm, z, model='C1'):\n",
    "    \n",
    "    if model=='C1':\n",
    "        rrm0 = rrm*(1+z)**2\n",
    "    elif model=='C2':\n",
    "        rrm0 = rrm*((1+z)**3-1)\n",
    "        rrm0/= 3*z\n",
    "    elif model=='C3':\n",
    "        rrm0 = rrm*(1+z)\n",
    "    \n",
    "    return rrm0"
   ]
  },
  {
   "cell_type": "code",
   "execution_count": 10,
   "id": "a712e909",
   "metadata": {},
   "outputs": [],
   "source": [
    "bins, idx_bin, n_bin = bin_z(z, nbins=7)\n",
    "mu_bin = 0.5*np.diff(bins)+bins[:-1]\n",
    "\n",
    "rrm0 = zdep(rrm, z, model='C3')\n",
    "mu_rrm_c3, sig_rrm_c3, ste_rrm_c3, ste_sig_c3 = bin_rrm(rrm0, bins, idx_bin, n_bin)"
   ]
  },
  {
   "cell_type": "code",
   "execution_count": 11,
   "id": "7236d6bb",
   "metadata": {},
   "outputs": [],
   "source": [
    "def N_f(z):\n",
    "    return -1.08*z**2+17.89*z-0.37"
   ]
  },
  {
   "cell_type": "code",
   "execution_count": 12,
   "id": "651e330e",
   "metadata": {},
   "outputs": [
    {
     "name": "stdout",
     "output_type": "stream",
     "text": [
      "Maximum likelihood estimates:\n",
      "m = 3.33+/-0.94\n",
      "b = 3.82+/-3.04\n",
      "f = 0.18+/-0.40\n"
     ]
    }
   ],
   "source": [
    "# RRM0f fit\n",
    "def log_likelihood(theta, x, y, yerr):\n",
    "    m, b, log_f = theta\n",
    "    model = m * N_f(x)**0.5 + b\n",
    "    sigma2 = yerr**2 + model**2 * np.exp(2 * log_f)\n",
    "    return -0.5 * np.sum((y - model) ** 2 / sigma2 + np.log(sigma2))\n",
    "\n",
    "np.random.seed(42)\n",
    "nll = lambda *args: -log_likelihood(*args)\n",
    "initial = np.array([0., 1., 0.]) + 0.1 * np.random.randn(3)\n",
    "soln = minimize(nll, initial, args=(mu_bin, sig_rrm_c3, ste_sig_c3))\n",
    "m_ml, b_ml, log_f_ml = soln.x\n",
    "ih = soln.hess_inv\n",
    "\n",
    "print(\"Maximum likelihood estimates:\")\n",
    "print(\"m = {:.2f}+/-{:.2f}\".format(m_ml, np.sqrt(ih[0,0])))\n",
    "print(\"b = {:.2f}+/-{:.2f}\".format(b_ml, np.sqrt(ih[1,1])))\n",
    "print(\"f = {:.2f}+/-{:.2f}\".format(np.exp(log_f_ml), np.sqrt(ih[2,2])))"
   ]
  },
  {
   "cell_type": "code",
   "execution_count": 13,
   "id": "80c96d77",
   "metadata": {},
   "outputs": [
    {
     "data": {
      "image/png": "[encoded data removed]",
      "text/plain": [
       "<Figure size 640x480 with 1 Axes>"
      ]
     },
     "metadata": {},
     "output_type": "display_data"
    }
   ],
   "source": [
    "model = m_ml*N_f(mu_bin)**0.5+b_ml\n",
    "pl.errorbar(mu_bin, sig_rrm_c3, ste_sig_c3, xerr=0.5*np.diff(bins), c='green', ls='dashdot', capsize=3.)\n",
    "pl.plot(mu_bin, model, c='orange')\n",
    "pl.xlabel('z')\n",
    "pl.ylabel('RRM0 (C3) rms [rad/m^2]')\n",
    "pl.ylim(0,35)\n",
    "pl.savefig('./plots/mightee_filament.png')\n",
    "pl.show()"
   ]
  },
  {
   "cell_type": "markdown",
   "id": "a8306ac8",
   "metadata": {},
   "source": [
    "---\n",
    "\n",
    "Using the relation\n",
    "\n",
    "$$RM = 0.81 \\cdot B_{\\Vert} \\cdot n_{\\rm e} \\cdot \\ell$$\n",
    "\n",
    "and correcting for inclination of filaments to the los using\n",
    "\n",
    "$$\\ell = \\frac{\\pi}{2} d.$$"
   ]
  },
  {
   "cell_type": "code",
   "execution_count": 14,
   "id": "0b5f84c3",
   "metadata": {},
   "outputs": [
    {
     "name": "stdout",
     "output_type": "stream",
     "text": [
      "Magnetic field strength: 87.23+/-24.69 nG\n"
     ]
    }
   ],
   "source": [
    "# b-field calculation\n",
    "\n",
    "ne = 1e-5\n",
    "ell = 3e6*(np.pi/2)\n",
    "B_para = m_ml/(0.81*ne*ell)\n",
    "B_para_err = np.sqrt(ih[0,0])/(0.81*ne*ell)\n",
    "print(\"Magnetic field strength: {:.2f}+/-{:.2f} nG\".format(B_para*1e3, B_para_err*1e3))"
   ]
  },
  {
   "cell_type": "code",
   "execution_count": null,
   "id": "e8e47e55",
   "metadata": {},
   "outputs": [],
   "source": []
  }
 ],
 "metadata": {
  "kernelspec": {
   "display_name": "Python 3 (ipykernel)",
   "language": "python",
   "name": "python3"
  },
  "language_info": {
   "codemirror_mode": {
    "name": "ipython",
    "version": 3
   },
   "file_extension": ".py",
   "mimetype": "text/x-python",
   "name": "python",
   "nbconvert_exporter": "python",
   "pygments_lexer": "ipython3",
   "version": "3.10.10"
  }
 },
 "nbformat": 4,
 "nbformat_minor": 5
}
